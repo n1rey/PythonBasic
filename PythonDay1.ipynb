{
  "nbformat": 4,
  "nbformat_minor": 0,
  "metadata": {
    "colab": {
      "provenance": [],
      "authorship_tag": "ABX9TyPw2YEEs32xi3GhuD42UGzc",
      "include_colab_link": true
    },
    "kernelspec": {
      "name": "python3",
      "display_name": "Python 3"
    },
    "language_info": {
      "name": "python"
    }
  },
  "cells": [
    {
      "cell_type": "markdown",
      "metadata": {
        "id": "view-in-github",
        "colab_type": "text"
      },
      "source": [
        "<a href=\"https://colab.research.google.com/github/n1rey/PythonBasic/blob/main/PythonDay1.ipynb\" target=\"_parent\"><img src=\"https://colab.research.google.com/assets/colab-badge.svg\" alt=\"Open In Colab\"/></a>"
      ]
    },
    {
      "cell_type": "code",
      "execution_count": 1,
      "metadata": {
        "colab": {
          "base_uri": "https://localhost:8080/"
        },
        "id": "sAMATjdBkvBX",
        "outputId": "68f017d8-7b9d-4ac4-9b6b-4dcf791c5c6d"
      },
      "outputs": [
        {
          "output_type": "stream",
          "name": "stdout",
          "text": [
            "Hello World 테스트\n"
          ]
        }
      ],
      "source": [
        "print(\"Hello World 테스트\")"
      ]
    },
    {
      "cell_type": "code",
      "source": [
        "# 파이썬은 자바와는 달리 자료형 선언을 하지 않아도 알아서 데이터에 맞게 타입을 자동으로 지정함\n",
        "a=20\n",
        "\n",
        "b=\"Hello\"\n",
        "\n",
        "a= \"Hi\"\n",
        "print(a)"
      ],
      "metadata": {
        "colab": {
          "base_uri": "https://localhost:8080/"
        },
        "id": "sMWTQR9ik60H",
        "outputId": "7a4d99a3-1372-4f4b-b570-bb89be4621ac"
      },
      "execution_count": 2,
      "outputs": [
        {
          "output_type": "stream",
          "name": "stdout",
          "text": [
            "Hi\n"
          ]
        }
      ]
    },
    {
      "cell_type": "code",
      "source": [
        "# 정수형 자료형\n",
        "a = 100\n",
        "b = -123\n",
        "c = 0\n"
      ],
      "metadata": {
        "id": "HZpIhtVppoQf"
      },
      "execution_count": null,
      "outputs": []
    },
    {
      "cell_type": "code",
      "source": [
        "# 실수형 자료형\n",
        "a = 3.14\n",
        "b = -5.16"
      ],
      "metadata": {
        "id": "ZdvUj8vHqWJD"
      },
      "execution_count": null,
      "outputs": []
    },
    {
      "cell_type": "code",
      "source": [
        "# 숫자형 자료형에서의 연산\n",
        "a = 3\n",
        "b = 4\n",
        "\n",
        "# 코랩에서는 print를 생략해도 알아서 print() 넣어줌 but 마지막에만 넣어줌\n",
        "a + b\n",
        "a - b"
      ],
      "metadata": {
        "colab": {
          "base_uri": "https://localhost:8080/"
        },
        "id": "f3Bt7udjq4nb",
        "outputId": "edb076b6-e979-41a8-bc46-3ed2b05ca2ab"
      },
      "execution_count": 3,
      "outputs": [
        {
          "output_type": "execute_result",
          "data": {
            "text/plain": [
              "-1"
            ]
          },
          "metadata": {},
          "execution_count": 3
        }
      ]
    },
    {
      "cell_type": "code",
      "source": [
        "a + b\n",
        "a - b\n",
        "print(a+b)\n",
        "print(a-b)\n",
        "\n",
        "# print( ) 구문을 생략하면 마지막 구문만 출력해 주기 때문에 전부 출력하고 싶으면\n",
        "# 각각 print( ) 구문을 다 적어야 함\n",
        "# 이것은 파이썬의 특징이 아닌 코랩의 특징임"
      ],
      "metadata": {
        "colab": {
          "base_uri": "https://localhost:8080/"
        },
        "id": "U1W8LvoorOes",
        "outputId": "b723bb50-4bff-4e6e-e5f7-0f6b4d10722e"
      },
      "execution_count": 4,
      "outputs": [
        {
          "output_type": "stream",
          "name": "stdout",
          "text": [
            "7\n",
            "-1\n"
          ]
        }
      ]
    },
    {
      "cell_type": "code",
      "source": [
        "# 나머지 연산자 - 홀수 짝수 배수 확인\n",
        "5 / 2 # 일반적인 나머지 구하기\n"
      ],
      "metadata": {
        "colab": {
          "base_uri": "https://localhost:8080/"
        },
        "id": "tQfG29PcsCmu",
        "outputId": "74202bc7-de9d-42b1-844c-9830cc487d6a"
      },
      "execution_count": 6,
      "outputs": [
        {
          "output_type": "execute_result",
          "data": {
            "text/plain": [
              "1"
            ]
          },
          "metadata": {},
          "execution_count": 6
        }
      ]
    },
    {
      "cell_type": "code",
      "source": [
        "5 % 2 # 나눈 결과의 몫은 버리고 나머지만 나옴\n",
        "# 따라서 어떤 수를 2로 나눈 나머지가 0이 나오면 짝수, 1이 나오면 홀수"
      ],
      "metadata": {
        "id": "eEAbRyhFsavx"
      },
      "execution_count": null,
      "outputs": []
    },
    {
      "cell_type": "code",
      "source": [
        "8 % 2\n",
        "# 어떤 수 8을 어떤 수 2로 나눈 나머지가 0이면 배수이다"
      ],
      "metadata": {
        "id": "FLwMk2JlsfZd"
      },
      "execution_count": null,
      "outputs": []
    },
    {
      "cell_type": "code",
      "source": [
        "# 문자열 자료형 - 파이썬에서는 \" \" 와 ' '가 동일하게 사용됨\n",
        "\n",
        "# 1 큰 따옴표\n",
        "\n",
        "\"Hello World\"\n",
        "\n",
        "# 2 작은 따옴표\n",
        "\n",
        "'Hello World'\n",
        "\n",
        "# 3 3중 따옴표 - Doc String \n",
        "\"\"\"Hello World\"\"\"\n",
        "'''Hello World'''"
      ],
      "metadata": {
        "id": "8mZFMgq7v6Om"
      },
      "execution_count": null,
      "outputs": []
    },
    {
      "cell_type": "code",
      "source": [
        "# 파이썬에서는 큰 따옴표와 작은 따옴표의 차이점이 없지만 아래의 용도로 분리하여 사용됨\n",
        "\n",
        "\"Python' s\" # 작은 따옴표 하나를 출력하기 위한 용도\n",
        "'say \"Hello\"' # 작은 따옴표 안에서 큰 따옴표 를 출력하기 위한 용도"
      ],
      "metadata": {
        "colab": {
          "base_uri": "https://localhost:8080/",
          "height": 35
        },
        "id": "jWgn1oQvwbtW",
        "outputId": "7e9ac1c3-d968-4730-89cc-a418c2ddeb79"
      },
      "execution_count": 7,
      "outputs": [
        {
          "output_type": "execute_result",
          "data": {
            "text/plain": [
              "\"Python' s\""
            ],
            "application/vnd.google.colaboratory.intrinsic+json": {
              "type": "string"
            }
          },
          "metadata": {},
          "execution_count": 7
        }
      ]
    },
    {
      "cell_type": "code",
      "source": [
        "# \\n 이 줄바꿈\n",
        "a = \"I love you\\nYou love me?\"\n",
        "print(a)\n",
        "\n",
        "b = \"\"\"I love you\n",
        "You love me?\"\"\"\n",
        "print(b) # 띄어쓰기도 기억\n",
        "\n",
        "# 에러 발생\n",
        "# c = \"I love you\n",
        "# You love me \"\n",
        "\n"
      ],
      "metadata": {
        "colab": {
          "base_uri": "https://localhost:8080/"
        },
        "id": "uMFQ-96MxOOe",
        "outputId": "c59ab5e9-90b3-47d8-faa7-0b3e0a9f4a5c"
      },
      "execution_count": 9,
      "outputs": [
        {
          "output_type": "stream",
          "name": "stdout",
          "text": [
            "I love you\n",
            "You love me?\n",
            "I love you\n",
            "You love me?\n"
          ]
        }
      ]
    },
    {
      "cell_type": "code",
      "source": [
        "# 문자열 연산\n",
        "\n",
        "# 파이썬에서는 문자열도 연산이 가능함\n",
        "# 특히 다른 언어에서는 발견하기 어려운 파이썬만의 독특한 특징\n",
        "# 이런 점들이 바로 파이썬은 우리의 생각을 그대로 반영할 수 있다는 장점\n",
        "\n",
        "a = \"I \"\n",
        "b = \"love \"\n",
        "c = \"you \"\n",
        "\n",
        "print(a + b + c)\n",
        "\n",
        "d = \"love \"\n",
        "print(d * 3)\n",
        "\n",
        "e = \"=\"\n",
        "print (e * 30)"
      ],
      "metadata": {
        "colab": {
          "base_uri": "https://localhost:8080/"
        },
        "id": "0xFePoMfyWmW",
        "outputId": "76278482-7ab6-49ab-dded-f27ecfc9c704"
      },
      "execution_count": 13,
      "outputs": [
        {
          "output_type": "stream",
          "name": "stdout",
          "text": [
            "I love you \n",
            "love love love \n",
            "==============================\n"
          ]
        }
      ]
    },
    {
      "cell_type": "code",
      "source": [
        "# 문자열 자료형에서 많이 사용되는 함수들\n",
        "\n",
        "# 1 문자열의 길이 구하기\n",
        "len(\"i love you \") # 빈칸도 글자 취급함"
      ],
      "metadata": {
        "id": "zVAcD-EN0Pwe"
      },
      "execution_count": null,
      "outputs": []
    },
    {
      "cell_type": "code",
      "source": [
        "# 인덱싱과 슬라이딩 Indexing & Slicing\n",
        "# 참고로 인덱싱과 슬라이싱은 리스트와 튜플에서도 완전히 동일하게 사용됨\n",
        "\n",
        "# 인덱싱 - 한 개의 글자 추출\n",
        "a = \"I love you\"\n",
        "print(a[0])\n",
        "print(a[9])\n",
        "print(a[-1]) # 마지막 글자 추출은 -1을 사용함\n",
        "print(a[-3])\n",
        "\n",
        "# 슬라이싱 - 여러 개의 글자 추출\n",
        "a = 'I love you'\n",
        "print(a[2] + a[3] + a[4] + a[5])\n",
        "print(a[2:6]) # 끝자리를 나타내는 수는 미만을 의미함\n",
        "print(a[7:])  # 끝자리를 생략하면 끝까지 출력함\n",
        "print(a[:2])  # 시작 자리를 생략하면 처음부터 즉 0부터 시작함\n",
        "print(a[:])   # 모든 자리 생략하면 처음부터 끝까지 출력함 \n",
        "print(a[7:-1])# 슬라이싱에서도 - 표기를 사용함, 미만으로 사용됨 "
      ],
      "metadata": {
        "colab": {
          "base_uri": "https://localhost:8080/"
        },
        "id": "_rLzS_HP0sFk",
        "outputId": "13321a46-c823-485a-abab-333f591603f2"
      },
      "execution_count": 18,
      "outputs": [
        {
          "output_type": "stream",
          "name": "stdout",
          "text": [
            "I\n",
            "u\n",
            "u\n",
            "y\n",
            "love\n",
            "love\n",
            "you\n",
            "I \n",
            "I love you\n",
            "yo\n"
          ]
        }
      ]
    },
    {
      "cell_type": "code",
      "source": [
        "# 파이썬에서 출력 방법 총 4가지\n",
        "\n",
        "# 1 문자열 포맷팅(중요도 하)\n",
        "\n",
        "print(\"I %s you\" % \"love\")\n",
        "print(\"I ate %d apples\" % 5)\n",
        "print(\"I ate %s apples\" % 5)\n",
        "\n",
        "print(\"I %s you, I ate %s apples\" % (\"love\", 5))\n",
        "\n",
        "# 2 format() 포맷 함수 (중요도 하)\n",
        "print(\"I {} you\".format(\"love\"))\n",
        "print(\"I ate {} apples\".format(5))\n",
        "print(\"I ate {} apples\".format(5))\n",
        "\n",
        "print(\"I {} you, I ate {} apples\".format(\"love\", 5))"
      ],
      "metadata": {
        "colab": {
          "base_uri": "https://localhost:8080/"
        },
        "id": "6dMH8YSr7_qL",
        "outputId": "ba89eed6-d790-4d68-bc6f-eda1c66a0726"
      },
      "execution_count": 20,
      "outputs": [
        {
          "output_type": "stream",
          "name": "stdout",
          "text": [
            "I love you\n",
            "I ate 5 apples\n",
            "I ate 5 apples\n",
            "I love you, I ate 5 apples\n"
          ]
        }
      ]
    },
    {
      "cell_type": "code",
      "source": [
        "# 3 f스트링 (중요도 상)\n",
        "\n",
        "a = \"love\"\n",
        "b = 5\n",
        "\n",
        "print(f\"I {a} you\")\n",
        "print(f\"I ate {b} apples\")\n",
        "print(f\"I ate {b} apples\")\n",
        "\n",
        "print(f\"I {a} you, I ate {b} apples\")\n",
        "\n",
        "# 4 연산자 사용\n",
        "\n",
        "a = \"love\"\n",
        "b = 5\n",
        "\n",
        "print(\"I \" + a + \" you\")\n",
        "print(\"I ate\" , b , \"apples\")\n",
        "print(\"I ate\" , b , \"apples\")\n",
        "\n",
        "print(\"I \" + a + \" you, I ate\" , b , \"apples\")\n",
        "\n",
        "print(\"I \" , a , \" you\")\n",
        "print(\"I ate\" , b , \"apples\")\n",
        "print(\"I ate\" , b , \"apples\")\n",
        "print(\"I \" , a , \" you, I ate\" , b , \"apples\")"
      ],
      "metadata": {
        "colab": {
          "base_uri": "https://localhost:8080/"
        },
        "id": "Lp1FtiC2-YG8",
        "outputId": "3f557fb1-176e-4ef4-f848-127fd7012304"
      },
      "execution_count": 23,
      "outputs": [
        {
          "output_type": "stream",
          "name": "stdout",
          "text": [
            "I love you\n",
            "I ate 5 apples\n",
            "I ate 5 apples\n",
            "I love you, I ate 5 apples\n",
            "I love you\n",
            "I ate 5 apples\n",
            "I ate 5 apples\n",
            "I love you, I ate 5 apples\n"
          ]
        }
      ]
    }
  ]
}