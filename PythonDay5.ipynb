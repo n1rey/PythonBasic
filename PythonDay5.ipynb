{
  "nbformat": 4,
  "nbformat_minor": 0,
  "metadata": {
    "colab": {
      "provenance": [],
      "authorship_tag": "ABX9TyNKVqksxHm4P2tprR4csUGM",
      "include_colab_link": true
    },
    "kernelspec": {
      "name": "python3",
      "display_name": "Python 3"
    },
    "language_info": {
      "name": "python"
    }
  },
  "cells": [
    {
      "cell_type": "markdown",
      "metadata": {
        "id": "view-in-github",
        "colab_type": "text"
      },
      "source": [
        "<a href=\"https://colab.research.google.com/github/n1rey/PythonBasic/blob/main/PythonDay5.ipynb\" target=\"_parent\"><img src=\"https://colab.research.google.com/assets/colab-badge.svg\" alt=\"Open In Colab\"/></a>"
      ]
    },
    {
      "cell_type": "code",
      "execution_count": null,
      "metadata": {
        "id": "lr2XGh4Lcit3"
      },
      "outputs": [],
      "source": [
        "# Function\n",
        "\n",
        "# 자바에서는 오히려 함수가 존재하지 않는다 대신에 매서드를 사용한다\n",
        "# 사실 거의 같지만 매서드는 클래스 내부에서 정의된다\n",
        "# 자바는 클래스 밖이라는 개념이 존재하지 않기 때문에 함수가 없다.\n",
        "\n",
        "# 파이썬은 클래스 밖의 개념과 클래스 안의 개념이 다 존재하기 때문에\n",
        "# 함수도 매서드도 모두 사용된다\n",
        "\n",
        "# 함수란?\n",
        "\n",
        "# 믹서기에 딸기를 넣으면 딸기 주스가 바나나를 넣으면 바나나 주스가 만들어진다\n",
        "# 함수도 이와 같이 입력 값에 따라 다른 실행 결과를 내보낸다\n",
        "# 특히 파이썬도 자바와 같이 (매서드) 함수를 중요하게 많이 사용한다\n",
        "\n",
        "# 왜?\n",
        "# 프로그래밍을 하다 보면 같은 내용을 반복해서 실행시켜야 할 부분이 상당히 많아진다\n",
        "# 그때마다 새롭게 만들어서 사용하는 것이 아니라 한 번 범용적으로 만들어서\n",
        "# 필요할 대마다 호출하여 사용하면 프로그램의 흐름도 잘 파악할 수 있고\n",
        "# 오류가 어디에서 발생하는지도 쉽게 찾을 수 있다"
      ]
    },
    {
      "cell_type": "code",
      "source": [
        "def 함수명() :\n",
        "  수행구문1\n",
        "  수행구문2"
      ],
      "metadata": {
        "id": "Eo4Qo-8ceNLo"
      },
      "execution_count": null,
      "outputs": []
    },
    {
      "cell_type": "code",
      "source": [
        "# 함수 정의\n",
        "def add(a, b):\n",
        "  return a+b\n",
        "\n",
        "# 함수 호출\n",
        "print(add(1, 2))\n",
        "print(add(3, 5))"
      ],
      "metadata": {
        "colab": {
          "base_uri": "https://localhost:8080/"
        },
        "id": "UNQK7CDZeizi",
        "outputId": "f304322f-ea2a-42d2-a271-8c85ab793a07"
      },
      "execution_count": 4,
      "outputs": [
        {
          "output_type": "stream",
          "name": "stdout",
          "text": [
            "3\n",
            "8\n"
          ]
        }
      ]
    },
    {
      "cell_type": "code",
      "source": [
        "# 매개변수와 인수 (객체와 인스턴스 / 매서드와 함수, 파라미터와 옵션)\n",
        "# 매개변수는 함수에 입력으로 전달된 값을 받는 변수\n",
        "# 인수는 함수를 호출할 때 전달하는 입력 값을 의미한다\n",
        "\n",
        "def add(a, b) : # a, b 매개변수\n",
        "  return a + b\n",
        "\n",
        "print(add(1, 2)) # 1, 2 인수(진짜 값)\n",
        "print(add(3, 5)) # 3, 5 인수 "
      ],
      "metadata": {
        "colab": {
          "base_uri": "https://localhost:8080/"
        },
        "id": "aRzo3B9Bg0U4",
        "outputId": "a26811dd-655a-433c-9c4d-8268d7a4d055"
      },
      "execution_count": 5,
      "outputs": [
        {
          "output_type": "stream",
          "name": "stdout",
          "text": [
            "3\n",
            "8\n"
          ]
        }
      ]
    },
    {
      "cell_type": "code",
      "source": [
        "# 함수의 4가지 형태\n",
        "\n",
        "# 1. input값과 output값이 모두 존재하는 함수 (*****)\n",
        "# 2. input값이 없고 output값만 존재하는 함수\n",
        "# 3. input값은 있고 output값은 존재하지 않는 함수\n",
        "# 4. input값도 없고 output값도 없는 함수\n",
        "\n",
        "# 1. input값과 output값이 모두 존재하는 함수 (*****)\n",
        "# 함수 정의\n",
        "def add(a,b) : # input값이 있고\n",
        "  return a+b   # output값이 있다\n",
        "\n",
        "# 함수 호출\n",
        "print(add(1, 2))\n",
        "print(add(3, 5))  \n",
        "\n",
        "# 2. input값이 없고 output값만 존재하는 함수\n",
        "\n",
        "def say():\n",
        "  return 'Hello World'\n",
        "\n",
        "print(say())\n"
      ],
      "metadata": {
        "colab": {
          "base_uri": "https://localhost:8080/"
        },
        "id": "epsa_i_shYST",
        "outputId": "2afb096e-6f03-436c-ce1e-978c635fe855"
      },
      "execution_count": 6,
      "outputs": [
        {
          "output_type": "stream",
          "name": "stdout",
          "text": [
            "3\n",
            "8\n",
            "Hello World\n"
          ]
        }
      ]
    },
    {
      "cell_type": "code",
      "source": [
        "# 3. input값은 있고 output값은 존재하지 않는 함수(return이라는 글이 없으면 무조건 output은 없는 것)\n",
        "\n",
        "def yesinput(name):\n",
        "  print(name, '님 어서오세요')\n",
        "\n",
        "yesinput('홍길동')  "
      ],
      "metadata": {
        "colab": {
          "base_uri": "https://localhost:8080/"
        },
        "id": "c1c5bfayjcAR",
        "outputId": "baa10cfb-663d-4dfc-bfbf-8f9181889842"
      },
      "execution_count": 7,
      "outputs": [
        {
          "output_type": "stream",
          "name": "stdout",
          "text": [
            "홍길동 님 어서오세요\n"
          ]
        }
      ]
    },
    {
      "cell_type": "code",
      "source": [
        "# 4. input값도 없고 output값도 없는 함수\n",
        "\n",
        "def noinnoout():\n",
        "  print('환영합니다')\n",
        "\n",
        "noinnoout()"
      ],
      "metadata": {
        "colab": {
          "base_uri": "https://localhost:8080/"
        },
        "id": "LOHvxyzZj6GG",
        "outputId": "e6eda22e-dbbd-47b1-e791-ec97265e4260"
      },
      "execution_count": 9,
      "outputs": [
        {
          "output_type": "stream",
          "name": "stdout",
          "text": [
            "환영합니다\n"
          ]
        }
      ]
    },
    {
      "cell_type": "code",
      "source": [
        "# 매개 변수의 수를 알 수 없을 때\n",
        "# 즉, 몇 개의 매개 변수가 들어올지 모를 때\n",
        "\n",
        "def add2(a,b) :\n",
        "  return a+b \n",
        "\n",
        "def add2(a,b,c) :\n",
        "  return a+b+c\n",
        "\n",
        "# 위의 방법은 불편하니까 밑의 방법 이용  \n",
        "\n",
        "def add(*args):\n",
        "  result = 0\n",
        "  for i in args:\n",
        "    result = result + i\n",
        "  print(result)\n",
        "\n",
        "add(1, 2)\n",
        "add(1, 2, 3)\n",
        "add(1, 2, 3, 4, 5, 6, 7, 8)  "
      ],
      "metadata": {
        "colab": {
          "base_uri": "https://localhost:8080/"
        },
        "id": "LshWDuYGkfbG",
        "outputId": "ec31f8c8-d77f-4254-f93c-40a7e31c57d6"
      },
      "execution_count": 11,
      "outputs": [
        {
          "output_type": "stream",
          "name": "stdout",
          "text": [
            "3\n",
            "6\n",
            "36\n"
          ]
        }
      ]
    },
    {
      "cell_type": "code",
      "source": [
        "# 함수의 리턴값은 언제나 하나이다\n",
        "\n",
        "def addmul(a, b) :\n",
        "  return a+b\n",
        "  return a*b\n",
        "\n",
        "print(addmul(2, 3))\n",
        "\n",
        "def addmul2(a, b):\n",
        "  return a+b, a*b\n",
        "\n",
        "addmul2(2, 3)\n",
        "\n",
        "# 결과 값으로 튜플 (5, 6) 출력되었다 2개가 아닌 튜플 1개로 출력된 것이다"
      ],
      "metadata": {
        "colab": {
          "base_uri": "https://localhost:8080/"
        },
        "id": "bK0rQ3uPo1c_",
        "outputId": "24e18183-22e2-459a-d1b9-f1520d40bad1"
      },
      "execution_count": 12,
      "outputs": [
        {
          "output_type": "stream",
          "name": "stdout",
          "text": [
            "5\n"
          ]
        },
        {
          "output_type": "execute_result",
          "data": {
            "text/plain": [
              "(5, 6)"
            ]
          },
          "metadata": {},
          "execution_count": 12
        }
      ]
    },
    {
      "cell_type": "code",
      "source": [
        "# 매개 변수에 미리 초기값 설정하기\n",
        "\n",
        "def aboutme(name, age, gender) :\n",
        "  print(f'나의 이름은 {name}입니다')\n",
        "  print(f'나이는 {age}입니다')\n",
        "  if gender:\n",
        "    print(f'성별은 여성입니다')\n",
        "  else :\n",
        "    print(f'성별은 남성입니다')\n",
        "\n",
        "aboutme(\"김밥\", \"10\", True)    "
      ],
      "metadata": {
        "colab": {
          "base_uri": "https://localhost:8080/"
        },
        "id": "2Z4Rnwycp1WF",
        "outputId": "a37790ed-e404-4cc0-b872-19e97371fdb0"
      },
      "execution_count": 16,
      "outputs": [
        {
          "output_type": "stream",
          "name": "stdout",
          "text": [
            "나의 이름은 김밥입니다\n",
            "나이는 10입니다\n",
            "성별은 여성입니다\n"
          ]
        }
      ]
    },
    {
      "cell_type": "code",
      "source": [
        "def aboutme(name, age, gender=True) : # 여성이 많은 경우 매번 True 넣기 힘드니까 처음부터 지정하면 값 안 넣어도 나옴\n",
        "  print(f'나의 이름은 {name}입니다')\n",
        "  print(f'나이는 {age}입니다')\n",
        "  if gender:\n",
        "    print(f'성별은 여성입니다')\n",
        "  else :\n",
        "    print(f'성별은 남성입니다')\n",
        "\n",
        "aboutme(\"김밥\", \"10\")  "
      ],
      "metadata": {
        "colab": {
          "base_uri": "https://localhost:8080/"
        },
        "id": "Fxc8dHoWqsGp",
        "outputId": "06af41c6-7060-40eb-f344-13c64e7dab0f"
      },
      "execution_count": 17,
      "outputs": [
        {
          "output_type": "stream",
          "name": "stdout",
          "text": [
            "나의 이름은 김밥입니다\n",
            "나이는 10입니다\n",
            "성별은 여성입니다\n"
          ]
        }
      ]
    },
    {
      "cell_type": "code",
      "source": [
        "# 함수 안에서의 변수 효력 범위(지역변수/전역변수)\n",
        "\n",
        "a = 1\n",
        "\n",
        "def vartest(a):\n",
        "  a += 1 # 2\n",
        "\n",
        "vartest(a)\n",
        "print(a)  \n",
        "\n",
        "# 함수 안에서 사용하는 매개변수 a는 함수 밖의 변수 이름 a와는 전혀 관련이 없음"
      ],
      "metadata": {
        "colab": {
          "base_uri": "https://localhost:8080/"
        },
        "id": "k2-yJwGxrHHt",
        "outputId": "b3eb6fa7-0d09-4a7c-cdfa-e97f328a59a9"
      },
      "execution_count": 19,
      "outputs": [
        {
          "output_type": "stream",
          "name": "stdout",
          "text": [
            "1\n"
          ]
        }
      ]
    },
    {
      "cell_type": "code",
      "source": [
        "def vartest(a):\n",
        "  a += 1 # 4\n",
        "\n",
        "vartest(3)\n",
        "print(a)  \n",
        "\n",
        "# 위의 셀에서 a를 정의한 1이 출력되지만 만약 위 셀이 없다면\n",
        "# a를 전혀 알 수 없기 때문에 예외가 발생하게 된다"
      ],
      "metadata": {
        "colab": {
          "base_uri": "https://localhost:8080/"
        },
        "id": "AaZr-N4hspNu",
        "outputId": "f5347fd4-6b00-472b-9f6e-b992e9d8d5c6"
      },
      "execution_count": 20,
      "outputs": [
        {
          "output_type": "stream",
          "name": "stdout",
          "text": [
            "1\n"
          ]
        }
      ]
    },
    {
      "cell_type": "code",
      "source": [
        "def vartest(a):\n",
        "  a += 1 # 4\n",
        "  return a\n",
        "\n",
        "print(vartest(3))"
      ],
      "metadata": {
        "colab": {
          "base_uri": "https://localhost:8080/"
        },
        "id": "Df9oNSqas4pp",
        "outputId": "ddfd17da-a650-4a73-dabc-3ca80c87081d"
      },
      "execution_count": 22,
      "outputs": [
        {
          "output_type": "stream",
          "name": "stdout",
          "text": [
            "4\n"
          ]
        }
      ]
    },
    {
      "cell_type": "code",
      "source": [
        "# Class / Object\n",
        "\n",
        "# Object Oriented Programming 객체 지향 프로그래밍\n",
        "\n",
        "# 객체 지향 프로그래밍이 필수는 아니다 C 언어는 객체 지향 언어가 아니다\n",
        "\n",
        "# 클래스는 붕어빵 틀 객체는 붕어빵\n",
        "# 클래스는 쿠키 틀 객체는 쿠키\n",
        "\n",
        "# 인스턴스와 객체의 차이\n",
        "# 클래스로 만든 객체를 인스턴스라고 부른다 차이는 무엇일까?\n",
        "\n",
        "# a는 쿠키 클래스의 인스턴스이다\n",
        "# a는 객체이다\n",
        "\n",
        "# 인스턴스는 클래스와의 관계를 설명할 때 사용되고\n",
        "# 객체는 관계가 아닌 그 자체를 설명할 때 사용된다"
      ],
      "metadata": {
        "id": "YY2j7OLftgGv"
      },
      "execution_count": null,
      "outputs": []
    },
    {
      "cell_type": "code",
      "source": [
        "# 클래스 정의\n",
        "\n",
        "class Cal:\n",
        "  pass\n",
        "\n",
        "# 클래스로 인스턴스(객체) 생성\n",
        "a = Cal()\n"
      ],
      "metadata": {
        "id": "JRdMJnINxaG_"
      },
      "execution_count": null,
      "outputs": []
    },
    {
      "cell_type": "code",
      "source": [
        "result = 0\n",
        "result2 = 0\n",
        "\n",
        "def add(num):\n",
        "  global result\n",
        "  result += num\n",
        "  return result\n",
        "\n",
        "def add2(num):\n",
        "  global result2\n",
        "  result2 += num\n",
        "  return result2\n",
        "\n",
        "print(add(3))\n",
        "print(add(4))\n",
        "print(add(1))\n",
        "print()\n",
        "print(add2(2))\n",
        "print(add2(1))\n",
        "print(add2(3))\n",
        "\n",
        "# 똑같은 계산을 하는 계산기들이 각각 다른 값을 유지하고 있다\n",
        "# 계산기 1은 계산기 2에 전혀 영향을 주지 않는다\n",
        "\n",
        "# 하지만 문제는 계산기가 더 필요해진다면 또 같은 계산기들을 만들어야 한다\n",
        "\n",
        "# 따라서 클래스를 사용하여 계산기를 만들어 보자"
      ],
      "metadata": {
        "colab": {
          "base_uri": "https://localhost:8080/"
        },
        "id": "HZ8snwXb1GuO",
        "outputId": "9b99a2e7-6787-494f-cccd-d695d714c307"
      },
      "execution_count": 25,
      "outputs": [
        {
          "output_type": "stream",
          "name": "stdout",
          "text": [
            "3\n",
            "7\n",
            "8\n",
            "\n",
            "2\n",
            "3\n",
            "6\n"
          ]
        }
      ]
    },
    {
      "cell_type": "code",
      "source": [
        "class Cal:\n",
        "  def __init__(self):   #파이썬에서의 생성자\n",
        "    self.result = 0\n",
        "\n",
        "  def add(self, num):\n",
        "    self.result += num\n",
        "    return self.result\n",
        "\n",
        "\n",
        "cal1 = Cal()    \n",
        "cal2 = Cal()   \n",
        "cal3 = Cal()     \n",
        "\n",
        "print(cal1.add(2))\n",
        "print(cal1.add(1))\n",
        "print(cal1.add(3))\n",
        "print()\n",
        "print(cal2.add(5))\n",
        "print(cal2.add(4))\n",
        "print(cal2.add(1))\n",
        "print()\n",
        "print(cal3.add(2))\n",
        "# 동일한 클래스로 만든 객체들은 각기 다른 특성을 가지게 된다. "
      ],
      "metadata": {
        "colab": {
          "base_uri": "https://localhost:8080/"
        },
        "id": "_swgwu2j4z5Z",
        "outputId": "eac95792-394a-4731-dd84-dadb734e0e9e"
      },
      "execution_count": 30,
      "outputs": [
        {
          "output_type": "stream",
          "name": "stdout",
          "text": [
            "2\n",
            "3\n",
            "6\n",
            "\n",
            "5\n",
            "9\n",
            "10\n",
            "\n",
            "2\n"
          ]
        }
      ]
    },
    {
      "cell_type": "code",
      "source": [
        "class Cal:\n",
        "  def __init__(self):  \n",
        "    self.result = 0\n",
        "\n",
        "  def add(self, num):\n",
        "    self.result += num\n",
        "    return self.result\n",
        "\n",
        "  def sub(self, num):\n",
        "    self.result -= num\n",
        "    return self.result\n",
        "\n",
        "\n",
        "cal1 = Cal()    \n",
        "cal2 = Cal()   \n",
        "cal3 = Cal()     \n",
        "\n",
        "print(cal1.add(2))\n",
        "print(cal1.add(1))\n",
        "print(cal1.add(3))\n",
        "print()\n",
        "print(cal2.add(5))\n",
        "print(cal2.add(4))\n",
        "print(cal2.add(1))\n",
        "print()\n",
        "print(cal3.add(2))\n",
        "\n",
        "# 이미 만들어진 클래스에 새로운 기능 추가되면 객체들도 그 기능을 모두 사용할수 있다."
      ],
      "metadata": {
        "colab": {
          "base_uri": "https://localhost:8080/"
        },
        "id": "ZsEG2WBg2qkw",
        "outputId": "86ab12f2-de7f-4ed1-de68-cc1c82502812"
      },
      "execution_count": 29,
      "outputs": [
        {
          "output_type": "stream",
          "name": "stdout",
          "text": [
            "2\n",
            "3\n",
            "6\n",
            "\n",
            "5\n",
            "9\n",
            "10\n",
            "\n",
            "2\n"
          ]
        }
      ]
    },
    {
      "cell_type": "code",
      "source": [
        "class BigCal:\n",
        "  def setdata(self, first, second):  # self는 호출한 객체의 이름이 온다. \n",
        "    self.first = first\n",
        "    self.second = second\n",
        "\n",
        "  def add(self):\n",
        "    result = self.first + self.second\n",
        "    return result\n",
        "\n",
        "  def sub(self):\n",
        "    result = self.first - self.second\n",
        "    return result\n",
        "\n",
        "  def mul(self):\n",
        "    result = self.first * self.second\n",
        "    return result\n",
        "\n",
        "  def div(self):\n",
        "    result = self.first / self.second\n",
        "    return result\n",
        "\n",
        "cal1 = BigCal()\n",
        "cal2 = BigCal()\n",
        "\n",
        "cal1.setdata(2,3)  # 2가 first 3이 second self는 cal1된다. \n",
        "cal2.setdata(4,2)  # 4가 first 2가 second self는 cal2\n",
        "\n",
        "print(cal1.first)  # 2\n",
        "print(cal2.first)  # 4\n",
        "\n",
        "print(cal1.add())\n",
        "print(cal2.add())\n",
        "\n",
        "print(cal1.mul())\n",
        "print(cal2.mul())\n",
        "\n",
        "# 하나의 클래스로 생성된 여러개의 객체들은 각각 다른 성질을 유지한다."
      ],
      "metadata": {
        "colab": {
          "base_uri": "https://localhost:8080/"
        },
        "id": "QQqN8Iz65Fo6",
        "outputId": "58f7f81b-ae09-4ca9-efa4-8637e5d397b7"
      },
      "execution_count": 34,
      "outputs": [
        {
          "output_type": "stream",
          "name": "stdout",
          "text": [
            "2\n",
            "4\n",
            "5\n",
            "6\n"
          ]
        }
      ]
    },
    {
      "cell_type": "code",
      "source": [
        "class BigCal:\n",
        "\n",
        "  def __init__(self, first, second):\n",
        "    self.first = first\n",
        "    self.second = second\n",
        "\n",
        "  # def setdata(self, first, second):  # self는 호출한 객체의 이름이 온다. \n",
        "  #   self.first = first\n",
        "  #   self.second = second\n",
        "\n",
        "  def add(self):\n",
        "    result = self.first + self.second\n",
        "    return result\n",
        "\n",
        "  def sub(self):\n",
        "    result = self.first - self.second\n",
        "    return result\n",
        "\n",
        "  def mul(self):\n",
        "    result = self.first * self.second\n",
        "    return result\n",
        "\n",
        "  def div(self):\n",
        "    result = self.first / self.second\n",
        "    return result\n",
        "\n",
        "# cal1 = BigCal()\n",
        "# cal2 = BigCal()\n",
        "\n",
        "# cal1.setdata(2,3)  # 2가 first 3이 second self는 cal1된다. \n",
        "# cal2.setdata(4,2)  # 4가 first 2가 second self는 cal2\n",
        "\n",
        "cal1 = BigCal(2,3)\n",
        "cal2 = BigCal(4,2)\n",
        "\n",
        "print(cal1.first)  # 2\n",
        "print(cal2.first)  # 4\n",
        "\n",
        "print(cal1.add())\n",
        "print(cal2.add())\n",
        "\n",
        "print(cal1.mul())\n",
        "print(cal2.mul())\n",
        "\n",
        "# 하나의 클래스로 생성된 여러개의 객체들은 각각 다른 성질을 유지한다. "
      ],
      "metadata": {
        "colab": {
          "base_uri": "https://localhost:8080/"
        },
        "id": "7Uj2sDn6-VeX",
        "outputId": "a6b28c0c-1b2e-4b30-bce2-0275fe8f6f6d"
      },
      "execution_count": 35,
      "outputs": [
        {
          "output_type": "stream",
          "name": "stdout",
          "text": [
            "2\n",
            "4\n",
            "5\n",
            "6\n",
            "6\n",
            "8\n"
          ]
        }
      ]
    },
    {
      "cell_type": "code",
      "source": [
        "# 상속 Inheritance \n",
        "# 자바는 다중상속을 지원하지 않는 반면 파이썬은 다중상속을 지원한다. "
      ],
      "metadata": {
        "id": "Z5gBFwkV-dzc"
      },
      "execution_count": null,
      "outputs": []
    }
  ]
}