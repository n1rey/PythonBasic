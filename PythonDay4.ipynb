{
  "nbformat": 4,
  "nbformat_minor": 0,
  "metadata": {
    "colab": {
      "provenance": [],
      "authorship_tag": "ABX9TyOVwLJBOHwy3ABO1FPYhGi+",
      "include_colab_link": true
    },
    "kernelspec": {
      "name": "python3",
      "display_name": "Python 3"
    },
    "language_info": {
      "name": "python"
    }
  },
  "cells": [
    {
      "cell_type": "markdown",
      "metadata": {
        "id": "view-in-github",
        "colab_type": "text"
      },
      "source": [
        "<a href=\"https://colab.research.google.com/github/n1rey/PythonBasic/blob/main/PythonDay4.ipynb\" target=\"_parent\"><img src=\"https://colab.research.google.com/assets/colab-badge.svg\" alt=\"Open In Colab\"/></a>"
      ]
    },
    {
      "cell_type": "code",
      "execution_count": null,
      "metadata": {
        "colab": {
          "base_uri": "https://localhost:8080/"
        },
        "id": "SOhGIwKnQ97k",
        "outputId": "5238aa5c-cd11-40cb-8274-4a4ca60d0ba2"
      },
      "outputs": [
        {
          "output_type": "stream",
          "name": "stdout",
          "text": [
            "현재 시간을 입력하세요 : 02:00\n",
            "정각입니다.\n"
          ]
        }
      ],
      "source": [
        "# IF\n",
        "# 사용자로부터 입력 받은 시간이 정각인지를 판별하세요\n",
        "# 02:00   정각입니다.\n",
        "# 02:10   정각이 아닙니다.\n",
        "# 11:23   정각이 아닙니다.\n",
        "\n",
        "# Hint - 항상 정각은 끝에 두자리가 00으로 끝난다\n",
        "\n",
        "time = input(\"현재 시간을 입력하세요 : \")\n",
        "\n",
        "if time[-2:] == \"00\" :\n",
        "  print(\"정각입니다.\")\n",
        "else :\n",
        "  print(\"정각이 아닙니다.\")  \n"
      ]
    },
    {
      "cell_type": "code",
      "source": [
        "# 2\n",
        "\n",
        "# Hint : in 연산자\n",
        "\n",
        "warn_investment_list = [\"Microsoft\", \"Google\", \"Naver\", \"Kakao\", \"SAMSUNG\", \"LG\"]\n",
        "\n",
        "종목 = input(\"종목 입력 : \")\n",
        "if 종목 in warn_investment_list :\n",
        "  print(\"투자 경고 종목입니다.\")\n",
        "else :\n",
        "  print(\"투자 경고 종목이 아닙니다.\")  "
      ],
      "metadata": {
        "colab": {
          "base_uri": "https://localhost:8080/"
        },
        "id": "4MEUHQcOTQmr",
        "outputId": "e04504f2-1355-4963-ac20-ba7e3cefe010"
      },
      "execution_count": null,
      "outputs": [
        {
          "output_type": "stream",
          "name": "stdout",
          "text": [
            "종목 입력 : Microsoft\n",
            "투자 경고 종목입니다.\n"
          ]
        }
      ]
    },
    {
      "cell_type": "code",
      "source": [
        "# 3\n",
        "\n",
        "txt = input(\"한 글자만 입력하세요 : \")\n",
        "\n",
        "if txt.islower() :\n",
        "  print(txt.upper())\n",
        "else :\n",
        "  print(txt.lower())   "
      ],
      "metadata": {
        "colab": {
          "base_uri": "https://localhost:8080/"
        },
        "id": "5Tf3AD1qVi5y",
        "outputId": "5a8c1385-2262-44d1-b198-9cd5d63f4827"
      },
      "execution_count": null,
      "outputs": [
        {
          "output_type": "stream",
          "name": "stdout",
          "text": [
            "한 글자만 입력하세요 : A\n",
            "a\n"
          ]
        }
      ]
    },
    {
      "cell_type": "code",
      "source": [
        "# 4\n",
        "\n",
        "no = int(input(\"학생의 점수를 입력하세요 > \"))\n",
        "\n",
        "if no >= 90:\n",
        "  grade = 'A'\n",
        "elif no >= 80:\n",
        "  grade = 'B'\n",
        "elif no >= 70:\n",
        "  grade = 'C'\n",
        "elif no >= 60:\n",
        "  grade = 'D'\n",
        "else:\n",
        "  grade = 'F'\n",
        "\n",
        "if no % 10 >= 0 and no % 10 <= 3:\n",
        "  grade2 = '-'\n",
        "elif no % 10 >= 4 and no % 10 <= 6:\n",
        "  grade2 = '0'\n",
        "else:\n",
        "  grade2 = '+'\n",
        "\n",
        "print(f'입력하신 학생의 학점은 {grade}{grade2}입니다.')"
      ],
      "metadata": {
        "colab": {
          "base_uri": "https://localhost:8080/"
        },
        "id": "UXCm0QkvazNb",
        "outputId": "784598d7-9c5e-451f-d537-4a2f401cde20"
      },
      "execution_count": null,
      "outputs": [
        {
          "output_type": "stream",
          "name": "stdout",
          "text": [
            "학생의 점수를 입력하세요 > 92\n",
            "입력하신 학생의 학점은 A-입니다.\n"
          ]
        }
      ]
    },
    {
      "cell_type": "code",
      "source": [
        "####################### For ####################################\n",
        "\n",
        "# 5\n",
        "list = [ 3, -20, -3, 44]\n",
        "for i in list:\n",
        "  if i < 0:\n",
        "    print(i)"
      ],
      "metadata": {
        "colab": {
          "base_uri": "https://localhost:8080/"
        },
        "id": "R_3V-QXifuYo",
        "outputId": "918785b8-fa68-495b-fc50-7998d840b6fa"
      },
      "execution_count": null,
      "outputs": [
        {
          "output_type": "stream",
          "name": "stdout",
          "text": [
            "-20\n",
            "-3\n"
          ]
        }
      ]
    },
    {
      "cell_type": "code",
      "source": [
        "# 6\n",
        "\n",
        "list = [3,100,23,44,6,9]\n",
        "\n",
        "for i in list :\n",
        "  if i % 3 == 0 :\n",
        "    print(i)"
      ],
      "metadata": {
        "colab": {
          "base_uri": "https://localhost:8080/"
        },
        "id": "KE1miaCMfvd4",
        "outputId": "b1d6218f-aeb0-42b6-cc62-a383a6512f9f"
      },
      "execution_count": null,
      "outputs": [
        {
          "output_type": "stream",
          "name": "stdout",
          "text": [
            "3\n",
            "6\n",
            "9\n"
          ]
        }
      ]
    },
    {
      "cell_type": "code",
      "source": [
        "# 7 \n",
        "\n",
        "list = [\"I\", \"study\", \"python\", \"language\", \"!\"]\n",
        "for i in list:\n",
        "  if len(i) >= 3:\n",
        "    print(i)\n",
        "\n",
        "# hint : len()"
      ],
      "metadata": {
        "colab": {
          "base_uri": "https://localhost:8080/"
        },
        "id": "zkiV4Ai-f1uQ",
        "outputId": "18cb2711-8d18-413b-99e6-a66ad56a61ed"
      },
      "execution_count": null,
      "outputs": [
        {
          "output_type": "stream",
          "name": "stdout",
          "text": [
            "study\n",
            "python\n",
            "language\n"
          ]
        }
      ]
    },
    {
      "cell_type": "code",
      "source": [
        "# 8\n",
        "\n",
        "list = [\"A\", \"b\", \"c\", \"D\"]\n",
        "for i in list:\n",
        "  if i.isupper() :\n",
        "    print(i)"
      ],
      "metadata": {
        "colab": {
          "base_uri": "https://localhost:8080/"
        },
        "id": "I8N5fgFsgJNZ",
        "outputId": "ebc0fa37-0364-4947-a162-b43d00f7a41a"
      },
      "execution_count": null,
      "outputs": [
        {
          "output_type": "stream",
          "name": "stdout",
          "text": [
            "A\n",
            "D\n"
          ]
        }
      ]
    },
    {
      "cell_type": "code",
      "source": [
        "# 9\n",
        "\n",
        "list = ['dog', 'cat', 'parrot']\n",
        "for i in list :\n",
        "  c1 = i[0]   # 인덱싱 첫글자\n",
        "  c2 = c1.upper()\n",
        "  print(c2 + i[1:])\n",
        "\n",
        "for i in list :\n",
        "  print(i[0].upper() + i[1:])  "
      ],
      "metadata": {
        "colab": {
          "base_uri": "https://localhost:8080/"
        },
        "id": "0VylZncggxcR",
        "outputId": "d2c2ee6e-c8d9-4c3b-8e5c-492bb3b275c5"
      },
      "execution_count": null,
      "outputs": [
        {
          "output_type": "stream",
          "name": "stdout",
          "text": [
            "Dog\n",
            "Cat\n",
            "Parrot\n",
            "Dog\n",
            "Cat\n",
            "Parrot\n"
          ]
        }
      ]
    },
    {
      "cell_type": "code",
      "source": [
        "# 10\n",
        "\n",
        "list = ['hello.py', 'ex01.py', 'intro.hwp']\n",
        "\n",
        "for i in list :\n",
        "  print(i.split('.')[0])"
      ],
      "metadata": {
        "colab": {
          "base_uri": "https://localhost:8080/"
        },
        "id": "AQo-TlzHi57P",
        "outputId": "c8835340-afe4-4927-c483-754af94dadd1"
      },
      "execution_count": null,
      "outputs": [
        {
          "output_type": "stream",
          "name": "stdout",
          "text": [
            "hello\n",
            "ex01\n",
            "intro\n"
          ]
        }
      ]
    },
    {
      "cell_type": "code",
      "source": [
        "# 11\n",
        "\n",
        "sum = 0\n",
        "for i in range(1, 11):\n",
        "  if i % 2 == 1:\n",
        "    sum += i\n",
        "print(sum)"
      ],
      "metadata": {
        "colab": {
          "base_uri": "https://localhost:8080/"
        },
        "id": "19whnMRkl3mt",
        "outputId": "882c2c32-979e-4f4d-b342-7afd7a78cd06"
      },
      "execution_count": null,
      "outputs": [
        {
          "output_type": "stream",
          "name": "stdout",
          "text": [
            "25\n"
          ]
        }
      ]
    },
    {
      "cell_type": "code",
      "source": [
        "# 12\n",
        "\n",
        "my_list = [\"가\", \"나\", \"다\", \"라\"]\n",
        "\n",
        "for i in [3,2,1]:\n",
        "  print(my_list[i], my_list[i-1])\n",
        "\n",
        "list = [\"가\", \"나\", \"다\", \"라\"]\n",
        "for i in range(len(list)-1, 0, -1):\n",
        "  print(list[i], list[i-1])  "
      ],
      "metadata": {
        "colab": {
          "base_uri": "https://localhost:8080/"
        },
        "id": "mSNZaiMDm_Oi",
        "outputId": "9f79e4d4-104e-4824-8776-dfefc672e129"
      },
      "execution_count": null,
      "outputs": [
        {
          "output_type": "stream",
          "name": "stdout",
          "text": [
            "라 다\n",
            "다 나\n",
            "나 가\n",
            "라 다\n",
            "다 나\n",
            "나 가\n"
          ]
        }
      ]
    },
    {
      "cell_type": "code",
      "source": [
        "# 13\n",
        "\n",
        "ohlc = [[\"open\", \"high\", \"low\", \"close\"],\n",
        "        [100, 110, 70, 100],\n",
        "        [200, 210, 180, 190],\n",
        "        [300, 310, 300, 310]]\n",
        "\n",
        "for i in (range(1,len(ohlc))):  \n",
        "  print(ohlc[i][3])        "
      ],
      "metadata": {
        "colab": {
          "base_uri": "https://localhost:8080/"
        },
        "id": "Y7hZGa83n2xX",
        "outputId": "84041f10-d4e1-4bac-f2b8-75753e94536b"
      },
      "execution_count": null,
      "outputs": [
        {
          "output_type": "stream",
          "name": "stdout",
          "text": [
            "100\n",
            "190\n",
            "310\n"
          ]
        }
      ]
    },
    {
      "cell_type": "code",
      "source": [
        "# 14\n",
        "\n",
        "total = 0\n",
        "while total <= 50:\n",
        "  total += int(input('더할 수 입력 : '))\n",
        "print(total)"
      ],
      "metadata": {
        "colab": {
          "base_uri": "https://localhost:8080/"
        },
        "id": "r8XqTkivtQEP",
        "outputId": "4b6b2a1e-4868-41e4-a7f2-23b9e50deb25"
      },
      "execution_count": null,
      "outputs": [
        {
          "output_type": "stream",
          "name": "stdout",
          "text": [
            "더할 수 입력 : 10\n",
            "더할 수 입력 : 20\n",
            "더할 수 입력 : 30\n",
            "60\n"
          ]
        }
      ]
    },
    {
      "cell_type": "code",
      "source": [
        "# 15\n",
        "\n",
        "num = 0\n",
        "while num <= 5 :\n",
        "  num = int(input('숫자 입력 : '))\n",
        "print(f'입력한 숫자는 {num}')"
      ],
      "metadata": {
        "colab": {
          "base_uri": "https://localhost:8080/"
        },
        "id": "i4m0k0t-uoMs",
        "outputId": "7d13d771-d113-4e8d-dca8-9010001408d5"
      },
      "execution_count": null,
      "outputs": [
        {
          "output_type": "stream",
          "name": "stdout",
          "text": [
            "숫자 입력 : 1\n",
            "숫자 입력 : 6\n",
            "입력한 숫자는 6\n"
          ]
        }
      ]
    },
    {
      "cell_type": "code",
      "source": [
        "# 16\n",
        "\n",
        "a = 0\n",
        "while True:\n",
        "    a = int(input(\"10 ~ 20 숫자 입력 > \"))\n",
        "    if a > 20:\n",
        "        print(\"Too high\")\n",
        "    elif a < 10:\n",
        "        print(\"Too low\")\n",
        "    else:\n",
        "        print(\"Thank you\")\n",
        "        break"
      ],
      "metadata": {
        "colab": {
          "base_uri": "https://localhost:8080/"
        },
        "id": "v8A26t4lwQZd",
        "outputId": "459c13d5-7863-4068-f583-a884565ee3ec"
      },
      "execution_count": null,
      "outputs": [
        {
          "output_type": "stream",
          "name": "stdout",
          "text": [
            "10 ~ 20 숫자 입력 > 1\n",
            "Too low\n",
            "10 ~ 20 숫자 입력 > 22\n",
            "Too high\n",
            "10 ~ 20 숫자 입력 > 15\n",
            "Thank you\n"
          ]
        }
      ]
    },
    {
      "cell_type": "code",
      "source": [
        "# 17\n",
        "\n",
        "import random\n",
        "\n",
        "compnum = random.randrange(1, 101)\n",
        "count = 0\n",
        "while True:\n",
        "    a = int(input(\"1 ~ 100 숫자 입력 > \"))\n",
        "    if a > compnum:\n",
        "        print(\"Too high\")\n",
        "        count += 1\n",
        "    elif a < compnum:\n",
        "        print(\"Too low\")\n",
        "        count += 1\n",
        "    else:\n",
        "        print(f\"Well done. you took {count} attempts\")\n",
        "        break"
      ],
      "metadata": {
        "colab": {
          "base_uri": "https://localhost:8080/"
        },
        "id": "cYzvOybUwl2H",
        "outputId": "902d068b-7230-4a39-c025-8ce2c5966460"
      },
      "execution_count": null,
      "outputs": [
        {
          "output_type": "stream",
          "name": "stdout",
          "text": [
            "1 ~ 100 숫자 입력 > 50\n",
            "Too high\n",
            "1 ~ 100 숫자 입력 > 20\n",
            "Too high\n",
            "1 ~ 100 숫자 입력 > 10\n",
            "Too low\n",
            "1 ~ 100 숫자 입력 > 15\n",
            "Too low\n",
            "1 ~ 100 숫자 입력 > 18\n",
            "Well done. you took 4 attempts\n"
          ]
        }
      ]
    },
    {
      "cell_type": "code",
      "source": [
        "# 18\n",
        "\n",
        "num = 10\n",
        "while True :\n",
        "  print(f'There are {num} green bottles hanging on the wall. {num} green bottles hanging on the wall. and if 1 green bottle should accidentally fall')\n",
        "  num -= 1\n",
        "  if num == 0:\n",
        "    print('There are no more a green bottles hanging on the wall')\n",
        "    break\n",
        "  else:\n",
        "    q1 = int(input('how many green bottles will be hanging on the wall?'))\n",
        "    if q1 != num:\n",
        "      print(\"No, try again\")\n",
        "    else:\n",
        "      print(f'There are {num} green bottles hanging on the wall')\n",
        "      break"
      ],
      "metadata": {
        "colab": {
          "base_uri": "https://localhost:8080/"
        },
        "id": "B9rZaVWx3c1E",
        "outputId": "13febe8b-e6a2-4ef9-8e5a-c8d225776734"
      },
      "execution_count": null,
      "outputs": [
        {
          "output_type": "stream",
          "name": "stdout",
          "text": [
            "There are 10 green bottles hanging on the wall. 10 green bottles hanging on the wall. and if 1 green bottle should accidentally fall\n",
            "how many green bottles will be hanging on the wall?8\n",
            "No, try again\n",
            "There are 9 green bottles hanging on the wall. 9 green bottles hanging on the wall. and if 1 green bottle should accidentally fall\n",
            "how many green bottles will be hanging on the wall?7\n",
            "No, try again\n",
            "There are 8 green bottles hanging on the wall. 8 green bottles hanging on the wall. and if 1 green bottle should accidentally fall\n",
            "how many green bottles will be hanging on the wall?1\n",
            "No, try again\n",
            "There are 7 green bottles hanging on the wall. 7 green bottles hanging on the wall. and if 1 green bottle should accidentally fall\n",
            "how many green bottles will be hanging on the wall?6\n",
            "There are 6 green bottles hanging on the wall\n"
          ]
        }
      ]
    }
  ]
}